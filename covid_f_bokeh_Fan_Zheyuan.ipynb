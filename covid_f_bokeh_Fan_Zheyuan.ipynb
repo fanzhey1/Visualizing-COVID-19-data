{
 "cells": [
  {
   "cell_type": "markdown",
   "metadata": {},
   "source": [
    "## Task #3"
   ]
  },
  {
   "cell_type": "code",
   "execution_count": 1,
   "metadata": {},
   "outputs": [],
   "source": [
    "# Data from here:\n",
    "# https://www.ecdc.europa.eu/en/publications-data/download-todays-data-geographic-distribution-covid-19-cases-worldwide\n",
    "import pandas as pd\n",
    "import numpy as np\n",
    "import seaborn as sns\n",
    "from scipy import stats\n",
    "import matplotlib\n",
    "import matplotlib.pyplot as plt\n",
    "import matplotlib.ticker as mticker\n",
    "import matplotlib.dates as mdates\n",
    "from adjustText import adjust_text\n",
    "from matplotlib.ticker import ScalarFormatter\n",
    "\n",
    "from bokeh.models import ColumnDataSource, LabelSet, Arrow, NormalHead, OpenHead, VeeHead, ColorBar, Span\n",
    "from bokeh.models import Label, Title, NumeralTickFormatter\n",
    "from bokeh.plotting import figure, output_file, show\n",
    "from bokeh.transform import linear_cmap\n",
    "from bokeh.palettes import RdBu, Spectral10, Spectral6"
   ]
  },
  {
   "cell_type": "code",
   "execution_count": 2,
   "metadata": {},
   "outputs": [],
   "source": [
    "# READ, RENAME\n",
    "covid_cumulative = pd.read_excel(\"covid_a_master_cumulative_table.xlsx\")\n",
    "covid_cumulative.drop(columns=['Unnamed: 0'], inplace=True)"
   ]
  },
  {
   "cell_type": "markdown",
   "metadata": {},
   "source": [
    "## FILTER THE LAST DAY OF THE RESULTS AND PICK THE TOP N IN # OF CASES"
   ]
  },
  {
   "cell_type": "code",
   "execution_count": 3,
   "metadata": {},
   "outputs": [],
   "source": [
    "# N: HOW MANY TOP COUNTRIES YOU WANT TO PICK IN TERMS OF # OF CASES\n",
    "N = 50\n",
    "last_day = covid_cumulative.sort_values('Date', ascending=True).groupby('Countries').last()\n",
    "last_day['Countries'] = last_day.index\n",
    "last_day.sort_values('Cases', ascending=False, inplace=True)\n",
    "\n",
    "top_countries = last_day[:N]['Countries'].tolist() + ['Greece']\n",
    "covid_top_countries = covid_cumulative[covid_cumulative.Countries.isin(top_countries)]"
   ]
  },
  {
   "cell_type": "markdown",
   "metadata": {},
   "source": [
    "## GENERATE THE RELEVANT METRICS: Case fatality rate per 1m, Infection rate per 1m AND Mortality rate per 1m\n"
   ]
  },
  {
   "cell_type": "code",
   "execution_count": 4,
   "metadata": {},
   "outputs": [],
   "source": [
    "max_cases = covid_top_countries.groupby(by=['Countries']).max()\n",
    "max_cases['Case_fatality_rate'] = max_cases['Deaths']/max_cases['Cases']*100\n",
    "max_cases.sort_values('Cases', ascending=False)\n",
    "max_cases['Infection_rate_per_1m'] = max_cases['Cases']/max_cases['Population']*1000000\n",
    "max_cases['Mortality_rate_per_1m'] = max_cases['Deaths']/max_cases['Population']*1000000\n",
    "max_cases['Case_fatality_rate_per_1m'] = max_cases['Deaths']/max_cases['Cases']*1000000\n",
    "max_cases.to_excel('covid_b_cases_cumulative_table.xlsx')"
   ]
  },
  {
   "cell_type": "code",
   "execution_count": 5,
   "metadata": {},
   "outputs": [],
   "source": [
    "max_cases.loc[max_cases['Continent'] == 'Asia', 'Color'] =  Spectral10[0]\n",
    "max_cases.loc[max_cases['Continent'] == 'Europe', 'Color'] =  Spectral10[3]\n",
    "max_cases.loc[max_cases['Continent'] == 'America', 'Color'] =  Spectral10[6]\n",
    "max_cases.loc[max_cases['Continent'] == 'Africa', 'Color'] =  Spectral10[9]"
   ]
  },
  {
   "cell_type": "code",
   "execution_count": 6,
   "metadata": {},
   "outputs": [
    {
     "name": "stdout",
     "output_type": "stream",
     "text": [
      "The average infection rate is: 3852.8 per 1m people\n",
      "The average death rate is: 134.2 per 1m people\n",
      "The average mortality rate is: 3.5 per 100 people infected\n",
      "The average mortality rate is: 34843.2 per 1m people infected\n"
     ]
    }
   ],
   "source": [
    "Average_infection_rate_per_1m = max_cases['Cases'].sum()/max_cases['Population'].sum()*1000000\n",
    "print(\"The average infection rate is: {:.1f} per 1m people\".format(Average_infection_rate_per_1m))\n",
    "Average_death_rate_per_1m = max_cases['Deaths'].sum()/max_cases['Population'].sum()*1000000\n",
    "print(\"The average death rate is: {:.1f} per 1m people\".format(Average_death_rate_per_1m))\n",
    "Average_case_fatality_rate = max_cases['Deaths'].sum()/max_cases['Cases'].sum()*100\n",
    "print(\"The average mortality rate is: {:.1f} per 100 people infected\".format(Average_case_fatality_rate))\n",
    "Average_case_fatality_rate_per_1m = max_cases['Deaths'].sum()/max_cases['Cases'].sum()*1000000\n",
    "print(\"The average mortality rate is: {:.1f} per 1m people infected\".format(Average_case_fatality_rate_per_1m))"
   ]
  },
  {
   "cell_type": "code",
   "execution_count": 7,
   "metadata": {},
   "outputs": [],
   "source": [
    "source_1 = ColumnDataSource(max_cases)"
   ]
  },
  {
   "cell_type": "code",
   "execution_count": 8,
   "metadata": {},
   "outputs": [],
   "source": [
    "TITLE = \"Infection rate vs Case fatality rate\"\n",
    "TOOLS = \"hover, pan, wheel_zoom, box_zoom, reset, save\"\n",
    "p = figure(title=TITLE, tools=TOOLS, toolbar_location=\"above\", plot_width=1200, x_axis_type=\"log\")\n",
    "p.toolbar.logo = \"grey\"\n",
    "p.background_fill_color = \"#dddddd\"\n",
    "\n",
    "p.xaxis.axis_label = \"Infection rate per 1m\"\n",
    "p.yaxis.axis_label = \"Case fatality rate (%)\"\n",
    "p.xaxis.axis_label_text_font_size = \"14pt\"\n",
    "p.yaxis.axis_label_text_font_size = \"14pt\"\n",
    "p.xaxis.major_label_text_font_size = \"14pt\"\n",
    "p.yaxis.major_label_text_font_size = \"14pt\"\n",
    "p.xaxis.formatter = NumeralTickFormatter(format=\"0,0\")\n",
    "p.grid.grid_line_color = \"white\"\n",
    "\n",
    "# #Use the field name of the column source\n",
    "# mapper = linear_cmap('Infection_rate_per_1m', 'Turbo256', max_cases['Infection_rate_per_1m'].min(), max_cases['Infection_rate_per_1m'].max())\n",
    "\n",
    "p.circle(\"Infection_rate_per_1m\", \"Case_fatality_rate\", size=12, source=source_1, \n",
    "#          fill_color=linear_cmap('Infection_rate_per_1m', 'Turbo256', max_cases['Infection_rate_per_1m'].min(), max_cases['Infection_rate_per_1m'].max()),\n",
    "         legend_group='Continent',\n",
    "         color='Color',\n",
    "         line_color='black',\n",
    "         fill_alpha=0.8)\n",
    "\n",
    "p.hover.tooltips = [\n",
    "    (\"Country\", \"@{Countries}\"),\n",
    "    (\"Infection rate per 1m\", \"@Infection_rate_per_1m{0,0}\"),\n",
    "    (\"Case fatality rate (%)\", \"@Case_fatality_rate{0.1}\" ),\n",
    "    (\"Cases\", \"@Cases{0,0}\"),\n",
    "    (\"Deaths\", \"@Deaths{0,0}\"),\n",
    "]\n",
    "\n",
    "labels = LabelSet(x=\"Infection_rate_per_1m\", y=\"Case_fatality_rate\", text=\"Countries\", y_offset=8,\n",
    "                  text_font_size=\"11px\", text_color=\"black\", text_font_style='bold',\n",
    "                  source=source_1, text_align='center')\n",
    "p.add_layout(labels)\n",
    "\n",
    "hline = Span(location=Average_case_fatality_rate,\n",
    "             dimension='width', line_color='black',\n",
    "             line_dash='dashed', line_width=1)\n",
    "p.add_layout(hline)\n",
    "\n",
    "vline = Span(location=Average_infection_rate_per_1m,\n",
    "             dimension='height', line_color='black',\n",
    "             line_dash='dashed', line_width=1)\n",
    "p.add_layout(vline)\n",
    "\n",
    "citation = Label(x=100, y=12, text='Dashed lines show the average of each axis', \n",
    "                 text_font_size=\"12px\", \n",
    "                 text_color=\"black\", \n",
    "                 text_font_style='bold', \n",
    "                 render_mode='css',\n",
    "                 border_line_color='black', \n",
    "                 border_line_alpha=1.0,\n",
    "                 background_fill_color='white', \n",
    "                 background_fill_alpha=1.0)\n",
    "p.add_layout(citation)\n",
    "\n",
    "# color_bar = ColorBar(color_mapper=mapper['transform'], width=8,  location=(0,0))\n",
    "# p.add_layout(color_bar, 'right')\n",
    "\n",
    "output_file(\"infection_rate_vs_case_fatality.html\", title=\"infection rate vs case fatality\")\n",
    "\n",
    "show(p)"
   ]
  },
  {
   "cell_type": "code",
   "execution_count": 9,
   "metadata": {},
   "outputs": [],
   "source": [
    "source_1 = ColumnDataSource(max_cases)"
   ]
  },
  {
   "cell_type": "code",
   "execution_count": 10,
   "metadata": {},
   "outputs": [],
   "source": [
    "TITLE = \"Infection rate per 1m vs Fatality rate per 1m\"\n",
    "TOOLS = \"hover, pan, wheel_zoom, box_zoom, reset, save\"\n",
    "p = figure(title=TITLE, tools=TOOLS, toolbar_location=\"above\", plot_width=1200, x_axis_type=\"log\", y_axis_type=\"log\")\n",
    "p.toolbar.logo = \"grey\"\n",
    "p.background_fill_color = \"#dddddd\"\n",
    "\n",
    "p.xaxis.axis_label = \"Infection rate per 1m\"\n",
    "p.yaxis.axis_label = \"Fatality rate per 1m\"\n",
    "p.xaxis.axis_label_text_font_size = \"14pt\"\n",
    "p.yaxis.axis_label_text_font_size = \"14pt\"\n",
    "p.xaxis.major_label_text_font_size = \"14pt\"\n",
    "p.yaxis.major_label_text_font_size = \"14pt\"\n",
    "p.xaxis.formatter = NumeralTickFormatter(format=\"0,0\")\n",
    "p.grid.grid_line_color = \"white\"\n",
    "\n",
    "# #Use the field name of the column source\n",
    "# mapper = linear_cmap('Infection_rate_per_1m', 'Turbo256', max_cases['Infection_rate_per_1m'].min(), max_cases['Infection_rate_per_1m'].max())\n",
    "\n",
    "p.circle(\"Infection_rate_per_1m\", \"Case_fatality_rate_per_1m\", size=12, source=source_1, \n",
    "         #fill_color=linear_cmap('Infection_rate_per_1m', 'Turbo256', max_cases['Infection_rate_per_1m'].min(), max_cases['Infection_rate_per_1m'].max()),\n",
    "         legend_group='Continent',\n",
    "         color='Color',\n",
    "         line_color='black',\n",
    "         fill_alpha=0.8)\n",
    "\n",
    "p.hover.tooltips = [\n",
    "    (\"Country\", \"@{Countries}\"),\n",
    "    (\"Infection rate per 1m\", \"@Infection_rate_per_1m{0,0}\"),\n",
    "    (\"Fatality rate per 1m\", \"@Case_fatality_rate_per_1m{0.1}\" ),\n",
    "    (\"Cases\", \"@Cases{0,0}\"),\n",
    "    (\"Deaths\", \"@Deaths{0,0}\"),\n",
    "]\n",
    "\n",
    "labels = LabelSet(x=\"Infection_rate_per_1m\", y=\"Case_fatality_rate_per_1m\", text=\"Countries\", y_offset=8,\n",
    "                  text_font_size=\"11px\", text_color=\"black\", text_font_style='bold',\n",
    "                  source=source_1, text_align='center')\n",
    "p.add_layout(labels)\n",
    "\n",
    "hline = Span(location=Average_case_fatality_rate_per_1m,\n",
    "             dimension='width', line_color='black',\n",
    "             line_dash='dashed', line_width=1)\n",
    "p.add_layout(hline)\n",
    "\n",
    "vline = Span(location=Average_infection_rate_per_1m,\n",
    "             dimension='height', line_color='black',\n",
    "             line_dash='dashed', line_width=1)\n",
    "p.add_layout(vline)\n",
    "\n",
    "citation = Label(x=100, y=12, text='Dashed lines show the average of each axis', \n",
    "                 text_font_size=\"12px\", \n",
    "                 text_color=\"black\", \n",
    "                 text_font_style='bold', \n",
    "                 render_mode='css',\n",
    "                 border_line_color='black', \n",
    "                 border_line_alpha=1.0,\n",
    "                 background_fill_color='white', \n",
    "                 background_fill_alpha=1.0)\n",
    "p.add_layout(citation)\n",
    "\n",
    "# color_bar = ColorBar(color_mapper=mapper['transform'], width=8,  location=(0,0))\n",
    "# p.add_layout(color_bar, 'right')\n",
    "\n",
    "output_file(\"Fig_3_Fan_Zheyuan.html\", title=\"infection rate per 1m vs fatality rate per 1m\")\n",
    "\n",
    "show(p)"
   ]
  },
  {
   "cell_type": "code",
   "execution_count": null,
   "metadata": {},
   "outputs": [],
   "source": []
  }
 ],
 "metadata": {
  "kernelspec": {
   "display_name": "Python 3 (ipykernel)",
   "language": "python",
   "name": "python3"
  },
  "language_info": {
   "codemirror_mode": {
    "name": "ipython",
    "version": 3
   },
   "file_extension": ".py",
   "mimetype": "text/x-python",
   "name": "python",
   "nbconvert_exporter": "python",
   "pygments_lexer": "ipython3",
   "version": "3.8.2"
  }
 },
 "nbformat": 4,
 "nbformat_minor": 4
}
